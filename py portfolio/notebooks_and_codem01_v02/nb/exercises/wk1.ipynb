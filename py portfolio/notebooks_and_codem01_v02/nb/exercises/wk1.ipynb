{
 "cells": [
  {
   "cell_type": "code",
   "execution_count": 15,
   "metadata": {},
   "outputs": [],
   "source": [
    "import pandas as pd\n",
    "import numpy as np"
   ]
  },
  {
   "cell_type": "code",
   "execution_count": 83,
   "metadata": {
    "scrolled": true
   },
   "outputs": [
    {
     "data": {
      "text/html": [
       "<div>\n",
       "<style scoped>\n",
       "    .dataframe tbody tr th:only-of-type {\n",
       "        vertical-align: middle;\n",
       "    }\n",
       "\n",
       "    .dataframe tbody tr th {\n",
       "        vertical-align: top;\n",
       "    }\n",
       "\n",
       "    .dataframe thead th {\n",
       "        text-align: right;\n",
       "    }\n",
       "</style>\n",
       "<table border=\"1\" class=\"dataframe\">\n",
       "  <thead>\n",
       "    <tr style=\"text-align: right;\">\n",
       "      <th></th>\n",
       "      <th>&lt;= 0</th>\n",
       "      <th>Lo 30</th>\n",
       "      <th>Med 40</th>\n",
       "      <th>Hi 30</th>\n",
       "      <th>Lo 20</th>\n",
       "      <th>Qnt 2</th>\n",
       "      <th>Qnt 3</th>\n",
       "      <th>Qnt 4</th>\n",
       "      <th>Hi 20</th>\n",
       "      <th>Lo 10</th>\n",
       "      <th>Dec 2</th>\n",
       "      <th>Dec 3</th>\n",
       "      <th>Dec 4</th>\n",
       "      <th>Dec 5</th>\n",
       "      <th>Dec 6</th>\n",
       "      <th>Dec 7</th>\n",
       "      <th>Dec 8</th>\n",
       "      <th>Dec 9</th>\n",
       "      <th>Hi 10</th>\n",
       "    </tr>\n",
       "  </thead>\n",
       "  <tbody>\n",
       "    <tr>\n",
       "      <th>192607</th>\n",
       "      <td>-99.99</td>\n",
       "      <td>-0.43</td>\n",
       "      <td>1.52</td>\n",
       "      <td>2.68</td>\n",
       "      <td>-0.57</td>\n",
       "      <td>0.59</td>\n",
       "      <td>1.60</td>\n",
       "      <td>1.47</td>\n",
       "      <td>3.33</td>\n",
       "      <td>-1.45</td>\n",
       "      <td>0.29</td>\n",
       "      <td>-0.15</td>\n",
       "      <td>1.33</td>\n",
       "      <td>1.24</td>\n",
       "      <td>1.98</td>\n",
       "      <td>1.55</td>\n",
       "      <td>1.38</td>\n",
       "      <td>3.38</td>\n",
       "      <td>3.29</td>\n",
       "    </tr>\n",
       "    <tr>\n",
       "      <th>192608</th>\n",
       "      <td>-99.99</td>\n",
       "      <td>3.90</td>\n",
       "      <td>3.04</td>\n",
       "      <td>2.09</td>\n",
       "      <td>3.84</td>\n",
       "      <td>3.59</td>\n",
       "      <td>3.71</td>\n",
       "      <td>1.61</td>\n",
       "      <td>2.33</td>\n",
       "      <td>5.12</td>\n",
       "      <td>2.59</td>\n",
       "      <td>4.03</td>\n",
       "      <td>3.15</td>\n",
       "      <td>2.72</td>\n",
       "      <td>4.72</td>\n",
       "      <td>1.60</td>\n",
       "      <td>1.63</td>\n",
       "      <td>0.98</td>\n",
       "      <td>3.70</td>\n",
       "    </tr>\n",
       "    <tr>\n",
       "      <th>192609</th>\n",
       "      <td>-99.99</td>\n",
       "      <td>-1.08</td>\n",
       "      <td>-0.54</td>\n",
       "      <td>0.16</td>\n",
       "      <td>-0.48</td>\n",
       "      <td>-1.40</td>\n",
       "      <td>0.00</td>\n",
       "      <td>-0.50</td>\n",
       "      <td>-0.09</td>\n",
       "      <td>0.93</td>\n",
       "      <td>-1.87</td>\n",
       "      <td>-2.27</td>\n",
       "      <td>-0.53</td>\n",
       "      <td>0.07</td>\n",
       "      <td>-0.07</td>\n",
       "      <td>-1.64</td>\n",
       "      <td>0.64</td>\n",
       "      <td>-0.86</td>\n",
       "      <td>0.67</td>\n",
       "    </tr>\n",
       "    <tr>\n",
       "      <th>192610</th>\n",
       "      <td>-99.99</td>\n",
       "      <td>-3.32</td>\n",
       "      <td>-3.52</td>\n",
       "      <td>-3.06</td>\n",
       "      <td>-3.29</td>\n",
       "      <td>-4.10</td>\n",
       "      <td>-2.89</td>\n",
       "      <td>-3.36</td>\n",
       "      <td>-2.95</td>\n",
       "      <td>-4.84</td>\n",
       "      <td>-1.77</td>\n",
       "      <td>-3.36</td>\n",
       "      <td>-4.83</td>\n",
       "      <td>-2.98</td>\n",
       "      <td>-2.80</td>\n",
       "      <td>-3.45</td>\n",
       "      <td>-3.27</td>\n",
       "      <td>-3.47</td>\n",
       "      <td>-2.43</td>\n",
       "    </tr>\n",
       "    <tr>\n",
       "      <th>192611</th>\n",
       "      <td>-99.99</td>\n",
       "      <td>-0.46</td>\n",
       "      <td>3.82</td>\n",
       "      <td>3.09</td>\n",
       "      <td>-0.55</td>\n",
       "      <td>2.18</td>\n",
       "      <td>3.41</td>\n",
       "      <td>3.39</td>\n",
       "      <td>3.16</td>\n",
       "      <td>-0.78</td>\n",
       "      <td>-0.32</td>\n",
       "      <td>-0.29</td>\n",
       "      <td>4.65</td>\n",
       "      <td>3.24</td>\n",
       "      <td>3.57</td>\n",
       "      <td>3.82</td>\n",
       "      <td>2.95</td>\n",
       "      <td>3.61</td>\n",
       "      <td>2.70</td>\n",
       "    </tr>\n",
       "    <tr>\n",
       "      <th>...</th>\n",
       "      <td>...</td>\n",
       "      <td>...</td>\n",
       "      <td>...</td>\n",
       "      <td>...</td>\n",
       "      <td>...</td>\n",
       "      <td>...</td>\n",
       "      <td>...</td>\n",
       "      <td>...</td>\n",
       "      <td>...</td>\n",
       "      <td>...</td>\n",
       "      <td>...</td>\n",
       "      <td>...</td>\n",
       "      <td>...</td>\n",
       "      <td>...</td>\n",
       "      <td>...</td>\n",
       "      <td>...</td>\n",
       "      <td>...</td>\n",
       "      <td>...</td>\n",
       "      <td>...</td>\n",
       "    </tr>\n",
       "    <tr>\n",
       "      <th>201808</th>\n",
       "      <td>-99.99</td>\n",
       "      <td>3.47</td>\n",
       "      <td>4.04</td>\n",
       "      <td>2.87</td>\n",
       "      <td>3.09</td>\n",
       "      <td>5.05</td>\n",
       "      <td>3.90</td>\n",
       "      <td>3.54</td>\n",
       "      <td>2.49</td>\n",
       "      <td>2.41</td>\n",
       "      <td>5.07</td>\n",
       "      <td>5.30</td>\n",
       "      <td>4.70</td>\n",
       "      <td>3.02</td>\n",
       "      <td>5.01</td>\n",
       "      <td>3.50</td>\n",
       "      <td>3.58</td>\n",
       "      <td>2.65</td>\n",
       "      <td>2.34</td>\n",
       "    </tr>\n",
       "    <tr>\n",
       "      <th>201809</th>\n",
       "      <td>-99.99</td>\n",
       "      <td>-2.24</td>\n",
       "      <td>-1.85</td>\n",
       "      <td>0.08</td>\n",
       "      <td>-2.04</td>\n",
       "      <td>-2.38</td>\n",
       "      <td>-2.48</td>\n",
       "      <td>-0.74</td>\n",
       "      <td>0.19</td>\n",
       "      <td>-1.68</td>\n",
       "      <td>-3.08</td>\n",
       "      <td>-3.22</td>\n",
       "      <td>-1.23</td>\n",
       "      <td>-2.65</td>\n",
       "      <td>-2.27</td>\n",
       "      <td>-1.31</td>\n",
       "      <td>-0.12</td>\n",
       "      <td>-0.51</td>\n",
       "      <td>0.87</td>\n",
       "    </tr>\n",
       "    <tr>\n",
       "      <th>201810</th>\n",
       "      <td>-99.99</td>\n",
       "      <td>-10.76</td>\n",
       "      <td>-10.88</td>\n",
       "      <td>-7.63</td>\n",
       "      <td>-10.52</td>\n",
       "      <td>-11.74</td>\n",
       "      <td>-10.55</td>\n",
       "      <td>-9.45</td>\n",
       "      <td>-7.41</td>\n",
       "      <td>-10.02</td>\n",
       "      <td>-11.98</td>\n",
       "      <td>-11.89</td>\n",
       "      <td>-11.52</td>\n",
       "      <td>-11.58</td>\n",
       "      <td>-9.23</td>\n",
       "      <td>-10.74</td>\n",
       "      <td>-8.04</td>\n",
       "      <td>-8.28</td>\n",
       "      <td>-6.57</td>\n",
       "    </tr>\n",
       "    <tr>\n",
       "      <th>201811</th>\n",
       "      <td>-99.99</td>\n",
       "      <td>-2.08</td>\n",
       "      <td>2.18</td>\n",
       "      <td>2.19</td>\n",
       "      <td>-2.78</td>\n",
       "      <td>1.69</td>\n",
       "      <td>1.46</td>\n",
       "      <td>2.62</td>\n",
       "      <td>2.49</td>\n",
       "      <td>-3.65</td>\n",
       "      <td>-0.23</td>\n",
       "      <td>1.23</td>\n",
       "      <td>2.30</td>\n",
       "      <td>1.74</td>\n",
       "      <td>1.11</td>\n",
       "      <td>3.54</td>\n",
       "      <td>1.63</td>\n",
       "      <td>2.45</td>\n",
       "      <td>2.53</td>\n",
       "    </tr>\n",
       "    <tr>\n",
       "      <th>201812</th>\n",
       "      <td>-99.99</td>\n",
       "      <td>-14.28</td>\n",
       "      <td>-12.41</td>\n",
       "      <td>-9.76</td>\n",
       "      <td>-14.77</td>\n",
       "      <td>-12.44</td>\n",
       "      <td>-12.22</td>\n",
       "      <td>-11.34</td>\n",
       "      <td>-9.21</td>\n",
       "      <td>-15.31</td>\n",
       "      <td>-13.19</td>\n",
       "      <td>-11.94</td>\n",
       "      <td>-13.13</td>\n",
       "      <td>-12.73</td>\n",
       "      <td>-11.57</td>\n",
       "      <td>-11.87</td>\n",
       "      <td>-10.75</td>\n",
       "      <td>-9.54</td>\n",
       "      <td>-8.90</td>\n",
       "    </tr>\n",
       "  </tbody>\n",
       "</table>\n",
       "<p>1110 rows × 19 columns</p>\n",
       "</div>"
      ],
      "text/plain": [
       "         <= 0  Lo 30  Med 40  Hi 30  Lo 20  ...  Dec 6  Dec 7  Dec 8  Dec 9  Hi 10\n",
       "192607 -99.99  -0.43    1.52   2.68  -0.57  ...   1.98   1.55   1.38   3.38   3.29\n",
       "192608 -99.99   3.90    3.04   2.09   3.84  ...   4.72   1.60   1.63   0.98   3.70\n",
       "192609 -99.99  -1.08   -0.54   0.16  -0.48  ...  -0.07  -1.64   0.64  -0.86   0.67\n",
       "192610 -99.99  -3.32   -3.52  -3.06  -3.29  ...  -2.80  -3.45  -3.27  -3.47  -2.43\n",
       "192611 -99.99  -0.46    3.82   3.09  -0.55  ...   3.57   3.82   2.95   3.61   2.70\n",
       "...       ...    ...     ...    ...    ...  ...    ...    ...    ...    ...    ...\n",
       "201808 -99.99   3.47    4.04   2.87   3.09  ...   5.01   3.50   3.58   2.65   2.34\n",
       "201809 -99.99  -2.24   -1.85   0.08  -2.04  ...  -2.27  -1.31  -0.12  -0.51   0.87\n",
       "201810 -99.99 -10.76  -10.88  -7.63 -10.52  ...  -9.23 -10.74  -8.04  -8.28  -6.57\n",
       "201811 -99.99  -2.08    2.18   2.19  -2.78  ...   1.11   3.54   1.63   2.45   2.53\n",
       "201812 -99.99 -14.28  -12.41  -9.76 -14.77  ... -11.57 -11.87 -10.75  -9.54  -8.90\n",
       "\n",
       "[1110 rows x 19 columns]"
      ]
     },
     "execution_count": 83,
     "metadata": {},
     "output_type": "execute_result"
    }
   ],
   "source": [
    "ret = pd.read_csv(\"../data/Portfolios_Formed_on_ME_monthly_EW.csv\",  header = 0, index_col=0,  parse_dates = True )\n",
    "ret"
   ]
  },
  {
   "cell_type": "code",
   "execution_count": 86,
   "metadata": {},
   "outputs": [],
   "source": [
    "lo20 = ret['Lo 20']/100+1"
   ]
  },
  {
   "cell_type": "code",
   "execution_count": 87,
   "metadata": {},
   "outputs": [
    {
     "data": {
      "text/plain": [
       "192607    0.9943\n",
       "192608    1.0384\n",
       "192609    0.9952\n",
       "192610    0.9671\n",
       "192611    0.9945\n",
       "           ...  \n",
       "201808    1.0309\n",
       "201809    0.9796\n",
       "201810    0.8948\n",
       "201811    0.9722\n",
       "201812    0.8523\n",
       "Name: Lo 20, Length: 1110, dtype: float64"
      ]
     },
     "execution_count": 87,
     "metadata": {},
     "output_type": "execute_result"
    }
   ],
   "source": [
    "lo20"
   ]
  },
  {
   "cell_type": "code",
   "execution_count": 88,
   "metadata": {},
   "outputs": [
    {
     "data": {
      "text/plain": [
       "1110"
      ]
     },
     "execution_count": 88,
     "metadata": {},
     "output_type": "execute_result"
    }
   ],
   "source": [
    "lo20.size"
   ]
  },
  {
   "cell_type": "markdown",
   "metadata": {},
   "source": [
    "Get overeall GMean return over the periods. These returns are avg monthly returns "
   ]
  },
  {
   "cell_type": "code",
   "execution_count": 89,
   "metadata": {},
   "outputs": [],
   "source": [
    "gm_ret = (np.prod(lo20, axis=0))**(1/lo20.size)"
   ]
  },
  {
   "cell_type": "code",
   "execution_count": 90,
   "metadata": {},
   "outputs": [
    {
     "data": {
      "text/plain": [
       "1.19"
      ]
     },
     "execution_count": 90,
     "metadata": {},
     "output_type": "execute_result"
    }
   ],
   "source": [
    "gm_pct = ((gm_ret -1)* 100 ).round(2)\n",
    "gm_pct"
   ]
  },
  {
   "cell_type": "markdown",
   "metadata": {},
   "source": [
    "Convert the return to annualized return. There are two WAYS to calculate it. \n",
    "1. Take Monthly return and convert it to 12 month to annualized. \n",
    "\n",
    "2.  While computing return power it to 12 to convert returns from monthly to Annual."
   ]
  },
  {
   "cell_type": "code",
   "execution_count": 91,
   "metadata": {},
   "outputs": [
    {
     "data": {
      "text/plain": [
       "0.15252711305920297"
      ]
     },
     "execution_count": 91,
     "metadata": {},
     "output_type": "execute_result"
    }
   ],
   "source": [
    "#Correct way to do it\n",
    "(1+gm_pct/100.0)**12 -1"
   ]
  },
  {
   "cell_type": "code",
   "execution_count": 92,
   "metadata": {},
   "outputs": [
    {
     "data": {
      "text/plain": [
       "0.15197701163833743"
      ]
     },
     "execution_count": 92,
     "metadata": {},
     "output_type": "execute_result"
    }
   ],
   "source": [
    "(np.prod(lo20, axis=0))**(12/lo20.size) -1 "
   ]
  },
  {
   "cell_type": "markdown",
   "metadata": {},
   "source": [
    "## Volatility"
   ]
  },
  {
   "cell_type": "code",
   "execution_count": 93,
   "metadata": {},
   "outputs": [
    {
     "data": {
      "text/plain": [
       "33.67012751715778"
      ]
     },
     "execution_count": 93,
     "metadata": {},
     "output_type": "execute_result"
    }
   ],
   "source": [
    "ret['Lo 20'].std()*(12**0.5)"
   ]
  },
  {
   "cell_type": "markdown",
   "metadata": {},
   "source": [
    "## Hi20"
   ]
  },
  {
   "cell_type": "code",
   "execution_count": 94,
   "metadata": {},
   "outputs": [
    {
     "data": {
      "text/plain": [
       "1.0984902095125326"
      ]
     },
     "execution_count": 94,
     "metadata": {},
     "output_type": "execute_result"
    }
   ],
   "source": [
    "Hi20returns = ret['Hi 20']/100\n",
    "cumm_ret = np.product(Hi20returns+1)**(1/Hi20returns.size)\n",
    "(cumm_ret)**12"
   ]
  },
  {
   "cell_type": "code",
   "execution_count": 95,
   "metadata": {},
   "outputs": [
    {
     "data": {
      "text/plain": [
       "0.19511604155631326"
      ]
     },
     "execution_count": 95,
     "metadata": {},
     "output_type": "execute_result"
    }
   ],
   "source": [
    "Hi20returns.std()* (12**0.5)"
   ]
  },
  {
   "cell_type": "code",
   "execution_count": 107,
   "metadata": {},
   "outputs": [
    {
     "data": {
      "text/plain": [
       "4560"
      ]
     },
     "execution_count": 107,
     "metadata": {},
     "output_type": "execute_result"
    }
   ],
   "source": [
    "## Returns from 1999 onwards\n",
    "retfrom1999 = ret[(pd.to_datetime(ret.index, format='%Y%m') >= pd.Timestamp(1999, 1, 1))]\n",
    "retfrom1999.size"
   ]
  },
  {
   "cell_type": "code",
   "execution_count": 109,
   "metadata": {},
   "outputs": [
    {
     "data": {
      "text/html": [
       "<div>\n",
       "<style scoped>\n",
       "    .dataframe tbody tr th:only-of-type {\n",
       "        vertical-align: middle;\n",
       "    }\n",
       "\n",
       "    .dataframe tbody tr th {\n",
       "        vertical-align: top;\n",
       "    }\n",
       "\n",
       "    .dataframe thead th {\n",
       "        text-align: right;\n",
       "    }\n",
       "</style>\n",
       "<table border=\"1\" class=\"dataframe\">\n",
       "  <thead>\n",
       "    <tr style=\"text-align: right;\">\n",
       "      <th></th>\n",
       "      <th>&lt;= 0</th>\n",
       "      <th>Lo 30</th>\n",
       "      <th>Med 40</th>\n",
       "      <th>Hi 30</th>\n",
       "      <th>Lo 20</th>\n",
       "      <th>Qnt 2</th>\n",
       "      <th>Qnt 3</th>\n",
       "      <th>Qnt 4</th>\n",
       "      <th>Hi 20</th>\n",
       "      <th>Lo 10</th>\n",
       "      <th>Dec 2</th>\n",
       "      <th>Dec 3</th>\n",
       "      <th>Dec 4</th>\n",
       "      <th>Dec 5</th>\n",
       "      <th>Dec 6</th>\n",
       "      <th>Dec 7</th>\n",
       "      <th>Dec 8</th>\n",
       "      <th>Dec 9</th>\n",
       "      <th>Hi 10</th>\n",
       "    </tr>\n",
       "  </thead>\n",
       "  <tbody>\n",
       "    <tr>\n",
       "      <th>199901</th>\n",
       "      <td>-99.99</td>\n",
       "      <td>9.97</td>\n",
       "      <td>0.00</td>\n",
       "      <td>0.10</td>\n",
       "      <td>11.14</td>\n",
       "      <td>0.91</td>\n",
       "      <td>0.59</td>\n",
       "      <td>-1.93</td>\n",
       "      <td>1.53</td>\n",
       "      <td>12.70</td>\n",
       "      <td>4.95</td>\n",
       "      <td>1.55</td>\n",
       "      <td>-0.06</td>\n",
       "      <td>1.81</td>\n",
       "      <td>-0.79</td>\n",
       "      <td>-1.55</td>\n",
       "      <td>-2.31</td>\n",
       "      <td>0.30</td>\n",
       "      <td>2.84</td>\n",
       "    </tr>\n",
       "    <tr>\n",
       "      <th>199902</th>\n",
       "      <td>-99.99</td>\n",
       "      <td>-4.51</td>\n",
       "      <td>-7.38</td>\n",
       "      <td>-2.56</td>\n",
       "      <td>-3.99</td>\n",
       "      <td>-8.59</td>\n",
       "      <td>-7.96</td>\n",
       "      <td>-3.44</td>\n",
       "      <td>-1.72</td>\n",
       "      <td>-3.23</td>\n",
       "      <td>-6.98</td>\n",
       "      <td>-8.22</td>\n",
       "      <td>-9.17</td>\n",
       "      <td>-8.59</td>\n",
       "      <td>-7.26</td>\n",
       "      <td>-2.88</td>\n",
       "      <td>-3.98</td>\n",
       "      <td>-1.43</td>\n",
       "      <td>-2.03</td>\n",
       "    </tr>\n",
       "    <tr>\n",
       "      <th>199903</th>\n",
       "      <td>-99.99</td>\n",
       "      <td>-2.77</td>\n",
       "      <td>1.74</td>\n",
       "      <td>3.91</td>\n",
       "      <td>-3.08</td>\n",
       "      <td>-0.02</td>\n",
       "      <td>2.54</td>\n",
       "      <td>2.60</td>\n",
       "      <td>3.68</td>\n",
       "      <td>-3.04</td>\n",
       "      <td>-3.25</td>\n",
       "      <td>-0.61</td>\n",
       "      <td>0.89</td>\n",
       "      <td>2.24</td>\n",
       "      <td>2.88</td>\n",
       "      <td>0.84</td>\n",
       "      <td>4.29</td>\n",
       "      <td>4.41</td>\n",
       "      <td>2.91</td>\n",
       "    </tr>\n",
       "    <tr>\n",
       "      <th>199904</th>\n",
       "      <td>-99.99</td>\n",
       "      <td>8.38</td>\n",
       "      <td>9.38</td>\n",
       "      <td>8.51</td>\n",
       "      <td>8.24</td>\n",
       "      <td>8.88</td>\n",
       "      <td>10.14</td>\n",
       "      <td>10.37</td>\n",
       "      <td>6.79</td>\n",
       "      <td>7.71</td>\n",
       "      <td>10.31</td>\n",
       "      <td>9.38</td>\n",
       "      <td>8.12</td>\n",
       "      <td>9.85</td>\n",
       "      <td>10.47</td>\n",
       "      <td>9.31</td>\n",
       "      <td>11.40</td>\n",
       "      <td>6.61</td>\n",
       "      <td>6.98</td>\n",
       "    </tr>\n",
       "    <tr>\n",
       "      <th>199905</th>\n",
       "      <td>-99.99</td>\n",
       "      <td>4.18</td>\n",
       "      <td>3.49</td>\n",
       "      <td>0.27</td>\n",
       "      <td>4.35</td>\n",
       "      <td>3.39</td>\n",
       "      <td>3.24</td>\n",
       "      <td>2.51</td>\n",
       "      <td>-0.48</td>\n",
       "      <td>4.49</td>\n",
       "      <td>3.78</td>\n",
       "      <td>3.05</td>\n",
       "      <td>3.91</td>\n",
       "      <td>3.53</td>\n",
       "      <td>2.93</td>\n",
       "      <td>3.51</td>\n",
       "      <td>1.54</td>\n",
       "      <td>0.42</td>\n",
       "      <td>-1.41</td>\n",
       "    </tr>\n",
       "    <tr>\n",
       "      <th>...</th>\n",
       "      <td>...</td>\n",
       "      <td>...</td>\n",
       "      <td>...</td>\n",
       "      <td>...</td>\n",
       "      <td>...</td>\n",
       "      <td>...</td>\n",
       "      <td>...</td>\n",
       "      <td>...</td>\n",
       "      <td>...</td>\n",
       "      <td>...</td>\n",
       "      <td>...</td>\n",
       "      <td>...</td>\n",
       "      <td>...</td>\n",
       "      <td>...</td>\n",
       "      <td>...</td>\n",
       "      <td>...</td>\n",
       "      <td>...</td>\n",
       "      <td>...</td>\n",
       "      <td>...</td>\n",
       "    </tr>\n",
       "    <tr>\n",
       "      <th>201508</th>\n",
       "      <td>-99.99</td>\n",
       "      <td>-3.83</td>\n",
       "      <td>-5.96</td>\n",
       "      <td>-5.65</td>\n",
       "      <td>-3.47</td>\n",
       "      <td>-5.99</td>\n",
       "      <td>-5.29</td>\n",
       "      <td>-6.10</td>\n",
       "      <td>-5.59</td>\n",
       "      <td>-2.99</td>\n",
       "      <td>-4.88</td>\n",
       "      <td>-5.51</td>\n",
       "      <td>-6.61</td>\n",
       "      <td>-6.06</td>\n",
       "      <td>-4.44</td>\n",
       "      <td>-6.39</td>\n",
       "      <td>-5.76</td>\n",
       "      <td>-5.01</td>\n",
       "      <td>-6.20</td>\n",
       "    </tr>\n",
       "    <tr>\n",
       "      <th>201509</th>\n",
       "      <td>-99.99</td>\n",
       "      <td>-6.18</td>\n",
       "      <td>-5.95</td>\n",
       "      <td>-4.04</td>\n",
       "      <td>-6.10</td>\n",
       "      <td>-6.62</td>\n",
       "      <td>-6.03</td>\n",
       "      <td>-5.03</td>\n",
       "      <td>-3.33</td>\n",
       "      <td>-5.58</td>\n",
       "      <td>-7.59</td>\n",
       "      <td>-6.55</td>\n",
       "      <td>-6.71</td>\n",
       "      <td>-5.99</td>\n",
       "      <td>-6.08</td>\n",
       "      <td>-4.73</td>\n",
       "      <td>-5.40</td>\n",
       "      <td>-3.29</td>\n",
       "      <td>-3.38</td>\n",
       "    </tr>\n",
       "    <tr>\n",
       "      <th>201510</th>\n",
       "      <td>-99.99</td>\n",
       "      <td>4.28</td>\n",
       "      <td>6.11</td>\n",
       "      <td>7.06</td>\n",
       "      <td>3.85</td>\n",
       "      <td>5.91</td>\n",
       "      <td>6.97</td>\n",
       "      <td>6.10</td>\n",
       "      <td>7.10</td>\n",
       "      <td>2.71</td>\n",
       "      <td>7.10</td>\n",
       "      <td>6.30</td>\n",
       "      <td>5.41</td>\n",
       "      <td>7.57</td>\n",
       "      <td>6.30</td>\n",
       "      <td>5.37</td>\n",
       "      <td>6.99</td>\n",
       "      <td>6.41</td>\n",
       "      <td>7.80</td>\n",
       "    </tr>\n",
       "    <tr>\n",
       "      <th>201511</th>\n",
       "      <td>-99.99</td>\n",
       "      <td>2.24</td>\n",
       "      <td>2.87</td>\n",
       "      <td>0.31</td>\n",
       "      <td>1.65</td>\n",
       "      <td>5.23</td>\n",
       "      <td>1.85</td>\n",
       "      <td>1.01</td>\n",
       "      <td>0.15</td>\n",
       "      <td>1.09</td>\n",
       "      <td>3.26</td>\n",
       "      <td>5.02</td>\n",
       "      <td>5.48</td>\n",
       "      <td>3.19</td>\n",
       "      <td>0.37</td>\n",
       "      <td>1.31</td>\n",
       "      <td>0.64</td>\n",
       "      <td>-0.14</td>\n",
       "      <td>0.44</td>\n",
       "    </tr>\n",
       "    <tr>\n",
       "      <th>201512</th>\n",
       "      <td>-99.99</td>\n",
       "      <td>-5.12</td>\n",
       "      <td>-4.97</td>\n",
       "      <td>-2.81</td>\n",
       "      <td>-5.00</td>\n",
       "      <td>-5.25</td>\n",
       "      <td>-5.61</td>\n",
       "      <td>-3.96</td>\n",
       "      <td>-2.29</td>\n",
       "      <td>-4.75</td>\n",
       "      <td>-5.69</td>\n",
       "      <td>-5.67</td>\n",
       "      <td>-4.71</td>\n",
       "      <td>-6.20</td>\n",
       "      <td>-4.97</td>\n",
       "      <td>-4.07</td>\n",
       "      <td>-3.83</td>\n",
       "      <td>-2.86</td>\n",
       "      <td>-1.71</td>\n",
       "    </tr>\n",
       "  </tbody>\n",
       "</table>\n",
       "<p>204 rows × 19 columns</p>\n",
       "</div>"
      ],
      "text/plain": [
       "         <= 0  Lo 30  Med 40  Hi 30  Lo 20  ...  Dec 6  Dec 7  Dec 8  Dec 9  Hi 10\n",
       "199901 -99.99   9.97    0.00   0.10  11.14  ...  -0.79  -1.55  -2.31   0.30   2.84\n",
       "199902 -99.99  -4.51   -7.38  -2.56  -3.99  ...  -7.26  -2.88  -3.98  -1.43  -2.03\n",
       "199903 -99.99  -2.77    1.74   3.91  -3.08  ...   2.88   0.84   4.29   4.41   2.91\n",
       "199904 -99.99   8.38    9.38   8.51   8.24  ...  10.47   9.31  11.40   6.61   6.98\n",
       "199905 -99.99   4.18    3.49   0.27   4.35  ...   2.93   3.51   1.54   0.42  -1.41\n",
       "...       ...    ...     ...    ...    ...  ...    ...    ...    ...    ...    ...\n",
       "201508 -99.99  -3.83   -5.96  -5.65  -3.47  ...  -4.44  -6.39  -5.76  -5.01  -6.20\n",
       "201509 -99.99  -6.18   -5.95  -4.04  -6.10  ...  -6.08  -4.73  -5.40  -3.29  -3.38\n",
       "201510 -99.99   4.28    6.11   7.06   3.85  ...   6.30   5.37   6.99   6.41   7.80\n",
       "201511 -99.99   2.24    2.87   0.31   1.65  ...   0.37   1.31   0.64  -0.14   0.44\n",
       "201512 -99.99  -5.12   -4.97  -2.81  -5.00  ...  -4.97  -4.07  -3.83  -2.86  -1.71\n",
       "\n",
       "[204 rows x 19 columns]"
      ]
     },
     "execution_count": 109,
     "metadata": {},
     "output_type": "execute_result"
    }
   ],
   "source": [
    "## Returns from 1999-2015\n",
    "retTo2016 = retfrom1999[(pd.to_datetime(retfrom1999.index, format='%Y%m') < pd.Timestamp(2016, 1, 1))]\n",
    "retTo2016"
   ]
  },
  {
   "cell_type": "code",
   "execution_count": 110,
   "metadata": {},
   "outputs": [
    {
     "data": {
      "text/plain": [
       "199901    0.1114\n",
       "199902   -0.0399\n",
       "199903   -0.0308\n",
       "199904    0.0824\n",
       "199905    0.0435\n",
       "           ...  \n",
       "201508   -0.0347\n",
       "201509   -0.0610\n",
       "201510    0.0385\n",
       "201511    0.0165\n",
       "201512   -0.0500\n",
       "Name: Lo 20, Length: 204, dtype: float64"
      ]
     },
     "execution_count": 110,
     "metadata": {},
     "output_type": "execute_result"
    }
   ],
   "source": [
    "# Get cumm return from 1999 to 2015\n",
    "ret2 = retTo2016['Lo 20']/100\n",
    "ret2"
   ]
  },
  {
   "cell_type": "code",
   "execution_count": 112,
   "metadata": {},
   "outputs": [],
   "source": [
    "ret2_mo = np.product(ret2+1)**(1/ret2.size) - 1"
   ]
  },
  {
   "cell_type": "code",
   "execution_count": 113,
   "metadata": {},
   "outputs": [
    {
     "data": {
      "text/plain": [
       "0.11442634058515022"
      ]
     },
     "execution_count": 113,
     "metadata": {},
     "output_type": "execute_result"
    }
   ],
   "source": [
    "#annualized returns\n",
    "ret2_ann = (1 + ret2_mo)**12 -1\n",
    "ret2_ann"
   ]
  },
  {
   "cell_type": "code",
   "execution_count": 115,
   "metadata": {},
   "outputs": [
    {
     "data": {
      "text/plain": [
       "0.22889447266699597"
      ]
     },
     "execution_count": 115,
     "metadata": {},
     "output_type": "execute_result"
    }
   ],
   "source": [
    "##Annual Vol for Lo 20\n",
    "ret2.std() * (12**0.5)"
   ]
  },
  {
   "cell_type": "code",
   "execution_count": 118,
   "metadata": {},
   "outputs": [
    {
     "data": {
      "text/plain": [
       "0.06286512130085131"
      ]
     },
     "execution_count": 118,
     "metadata": {},
     "output_type": "execute_result"
    }
   ],
   "source": [
    "#returns from 1999 -2015 for Hi20\n",
    "retHi20 = retTo2016['Hi 20']/100\n",
    "retHi20_mo = np.product(retHi20+1)**(1/retHi20.size) - 1\n",
    "retHi20_ann = (1 + retHi20_mo)**12 -1\n",
    "retHi20_ann"
   ]
  },
  {
   "cell_type": "code",
   "execution_count": 119,
   "metadata": {},
   "outputs": [
    {
     "data": {
      "text/plain": [
       "0.1727133212125047"
      ]
     },
     "execution_count": 119,
     "metadata": {},
     "output_type": "execute_result"
    }
   ],
   "source": [
    "#Annualized Vol for Hi 20\n",
    "retHi20.std() * (12**0.5)"
   ]
  },
  {
   "cell_type": "markdown",
   "metadata": {},
   "source": [
    "## Max Drawdown"
   ]
  },
  {
   "cell_type": "code",
   "execution_count": 228,
   "metadata": {},
   "outputs": [
    {
     "data": {
      "text/plain": [
       "<matplotlib.axes._subplots.AxesSubplot at 0x14880053dc8>"
      ]
     },
     "execution_count": 228,
     "metadata": {},
     "output_type": "execute_result"
    },
    {
     "data": {
      "image/png": "[encoded data removed]",
      "text/plain": [
       "<Figure size 432x288 with 1 Axes>"
      ]
     },
     "metadata": {},
     "output_type": "display_data"
    }
   ],
   "source": [
    "##MAx drawDown from 1999-2015 for Lo 20\n",
    "# 'Lo 20', Hi20'\n",
    "#Calc compound return\n",
    "drawDS = 1+ret['Lo 20']/100\n",
    "drawDS.index = pd.to_datetime(drawDS.index, format='%Y%m')\n",
    "drawDS.index = drawDS.index.to_period('M')\n",
    "#Apply Date Filter\n",
    "drawDS = drawDS[drawDS.index >= '1999-01']\n",
    "drawDS = drawDS[drawDS.index < '2016-01']\n",
    "drawDS.plot()"
   ]
  },
  {
   "cell_type": "code",
   "execution_count": 229,
   "metadata": {},
   "outputs": [
    {
     "data": {
      "text/plain": [
       "<matplotlib.axes._subplots.AxesSubplot at 0x148800c9248>"
      ]
     },
     "execution_count": 229,
     "metadata": {},
     "output_type": "execute_result"
    },
    {
     "data": {
      "image/png": "[encoded data removed]",
      "text/plain": [
       "<Figure size 432x288 with 1 Axes>"
      ]
     },
     "metadata": {},
     "output_type": "display_data"
    }
   ],
   "source": [
    "cummRetHiLo20 = (drawDS).cumprod()\n",
    "cummRetHiLo20.plot()"
   ]
  },
  {
   "cell_type": "code",
   "execution_count": 230,
   "metadata": {},
   "outputs": [
    {
     "data": {
      "text/plain": [
       "<matplotlib.axes._subplots.AxesSubplot at 0x14880145a88>"
      ]
     },
     "execution_count": 230,
     "metadata": {},
     "output_type": "execute_result"
    },
    {
     "data": {
      "image/png": "[encoded data removed]",
      "text/plain": [
       "<Figure size 432x288 with 1 Axes>"
      ]
     },
     "metadata": {},
     "output_type": "display_data"
    }
   ],
   "source": [
    "#Find Peak to Torugh\n",
    "previous_peaks = cummRetHiLo20.cummax()\n",
    "previous_peaks.plot()"
   ]
  },
  {
   "cell_type": "code",
   "execution_count": 231,
   "metadata": {},
   "outputs": [
    {
     "data": {
      "text/plain": [
       "<matplotlib.axes._subplots.AxesSubplot at 0x148801c3848>"
      ]
     },
     "execution_count": 231,
     "metadata": {},
     "output_type": "execute_result"
    },
    {
     "data": {
      "image/png": "[encoded data removed]",
      "text/plain": [
       "<Figure size 432x288 with 1 Axes>"
      ]
     },
     "metadata": {},
     "output_type": "display_data"
    }
   ],
   "source": [
    "#Calculate peak to trough\n",
    "drawdowns = (cummRetHiLo20/previous_peaks -1  )\n",
    "drawdowns.plot()"
   ]
  },
  {
   "cell_type": "code",
   "execution_count": 232,
   "metadata": {},
   "outputs": [
    {
     "data": {
      "text/plain": [
       "(-0.6248092431236988, Period('2009-02', 'M'))"
      ]
     },
     "execution_count": 232,
     "metadata": {},
     "output_type": "execute_result"
    }
   ],
   "source": [
    "#get Max drawdown\n",
    "maxDraw = drawdowns.min()\n",
    "maxDrawDt = drawdowns.idxmin()\n",
    "maxDraw, maxDrawDt"
   ]
  },
  {
   "cell_type": "code",
   "execution_count": 225,
   "metadata": {},
   "outputs": [
    {
     "data": {
      "text/plain": [
       "<matplotlib.axes._subplots.AxesSubplot at 0x148ffe96ac8>"
      ]
     },
     "execution_count": 225,
     "metadata": {},
     "output_type": "execute_result"
    },
    {
     "data": {
      "image/png": "[encoded data removed]",
      "text/plain": [
       "<Figure size 432x288 with 1 Axes>"
      ]
     },
     "metadata": {},
     "output_type": "display_data"
    }
   ],
   "source": [
    "## Max Drawdown for Hi 20\n",
    "##MAx drawDown from 1999-2015 for Lo 20\n",
    "#  Hi20'\n",
    "#Calc compound return\n",
    "drawDSHi = 1+ret['Hi 20']/100\n",
    "drawDSHi.index = pd.to_datetime(drawDSHi.index, format='%Y%m')\n",
    "drawDSHi.index = drawDSHi.index.to_period('M')\n",
    "#Apply Date Filter\n",
    "drawDSHi = drawDSHi[drawDSHi.index >= '1999-01']\n",
    "drawDSHi = drawDS[drawDS.index < '2016-01']\n",
    "drawDSHi.plot()\n",
    "cummRetHiLo20 = (drawDSHi).cumprod()\n",
    "cummRetHiLo20.plot()"
   ]
  },
  {
   "cell_type": "code",
   "execution_count": 227,
   "metadata": {},
   "outputs": [
    {
     "data": {
      "text/plain": [
       "(-0.5527349978713652, Period('2009-02', 'M'))"
      ]
     },
     "execution_count": 227,
     "metadata": {},
     "output_type": "execute_result"
    },
    {
     "data": {
      "image/png": "[encoded data removed]",
      "text/plain": [
       "<Figure size 432x288 with 1 Axes>"
      ]
     },
     "metadata": {},
     "output_type": "display_data"
    }
   ],
   "source": [
    "#Find Peak to Torugh\n",
    "previous_peaks = cummRetHiLo20.cummax()\n",
    "previous_peaks.plot()\n",
    "#Calculate peak to trough\n",
    "drawdowns = (cummRetHiLo20/previous_peaks -1  )\n",
    "drawdowns.plot()\n",
    "#get Max drawdown\n",
    "maxDraw = drawdowns.min()\n",
    "maxDrawDt = drawdowns.idxmin()\n",
    "maxDraw, maxDrawDt"
   ]
  },
  {
   "cell_type": "markdown",
   "metadata": {},
   "source": [
    "## Semideviation"
   ]
  },
  {
   "cell_type": "code",
   "execution_count": 142,
   "metadata": {},
   "outputs": [],
   "source": [
    "## exhibited the highest semideviation\n",
    "hfData = pd.read_csv(\"../data/edhec-hedgefundindices.csv\",  header = 0, index_col=0,  parse_dates = True )\n",
    "hfData2009 = hfData[ pd.to_datetime(hfData.index, format='%d%m%Y' ) >= pd.Timestamp(2009, 1, 1)]"
   ]
  },
  {
   "cell_type": "code",
   "execution_count": 144,
   "metadata": {},
   "outputs": [
    {
     "data": {
      "text/plain": [
       "Convertible Arbitrage     0.662269\n",
       "CTA Global                0.049664\n",
       "Distressed Securities     0.655882\n",
       "Emerging Markets          0.520504\n",
       "Equity Market Neutral     0.255630\n",
       "Event Driven              0.559496\n",
       "Fixed Income Arbitrage    0.547815\n",
       "Global Macro              0.267647\n",
       "Long/Short Equity         0.520924\n",
       "Merger Arbitrage          0.371597\n",
       "Relative Value            0.545210\n",
       "Short Selling            -1.035042\n",
       "Funds Of Funds            0.246975\n",
       "dtype: float64"
      ]
     },
     "execution_count": 144,
     "metadata": {},
     "output_type": "execute_result"
    }
   ],
   "source": [
    "means = hfData2009.mean(axis=0)\n",
    "means"
   ]
  },
  {
   "cell_type": "code",
   "execution_count": 163,
   "metadata": {},
   "outputs": [
    {
     "data": {
      "text/plain": [
       "(13,)"
      ]
     },
     "execution_count": 163,
     "metadata": {},
     "output_type": "execute_result"
    }
   ],
   "source": [
    "means.shape"
   ]
  },
  {
   "cell_type": "code",
   "execution_count": null,
   "metadata": {},
   "outputs": [],
   "source": []
  }
 ],
 "metadata": {
  "kernelspec": {
   "display_name": "Python 3 (Spyder)",
   "language": "python3",
   "name": "python3"
  },
  "language_info": {
   "codemirror_mode": {
    "name": "ipython",
    "version": 3
   },
   "file_extension": ".py",
   "mimetype": "text/x-python",
   "name": "python",
   "nbconvert_exporter": "python",
   "pygments_lexer": "ipython3",
   "version": "3.7.6"
  }
 },
 "nbformat": 4,
 "nbformat_minor": 2
}
