{
 "cells": [
  {
   "cell_type": "code",
   "execution_count": 1,
   "metadata": {},
   "outputs": [],
   "source": [
    "## This Notebook replicate excel pivoting"
   ]
  },
  {
   "cell_type": "markdown",
   "metadata": {},
   "source": [
    "## Sample Excel file containts following daily user activity\n",
    "\n",
    "#Sheet1: Date, User Name(UserId), User Name(Full Name), Country, Site, Clicks\n",
    "\n",
    "#Sheet2: List of all users by country\n"
   ]
  },
  {
   "cell_type": "code",
   "execution_count": 3,
   "metadata": {},
   "outputs": [],
   "source": [
    "import numpy as np\n",
    "import pandas as pd"
   ]
  },
  {
   "cell_type": "code",
   "execution_count": null,
   "metadata": {},
   "outputs": [],
   "source": [
    "#Read Sheet with usage data\n",
    "usage_sheet = pd.read_excel(\"Usage_Rpt_10-31.xlsx\", sheet_name=\"Usage\")\n",
    "#Get data where Column Site = Periscope\n",
    "usage_data = usage_sheet.loc[usage_sheet['Site'] == \"Periscope\"]\n",
    "\n",
    "# Sum User by Date\n",
    "data = usage_data.group_by(['Country', 'User Name.1', 'Date'], as_index=False,)['Clicks'].sum()\n",
    "\n",
    "data.head()\n",
    "\n",
    "data_gt3 = data.loc[data['Clicks'] >= 3]\n",
    "\n",
    "\n",
    "use_gt3_cntry = data_gt3.groupby('Country')['User Name1'].nunique().reset_index(name = 'Uniq DAU')"
   ]
  },
  {
   "cell_type": "code",
   "execution_count": null,
   "metadata": {},
   "outputs": [],
   "source": [
    "# Sheet contains UserID, Country, Name\n",
    "cntry_userlist = pd.read_excel = pd.read_excel(\"Usage_Rpt_10-31.xlsx\", sheet_name=\"Cntry Names\")\n",
    "users_by_cntry = cntry_userlist.groupby(['Country'])['UserID'].agg('count').reset_index(name = \"Total Users\")"
   ]
  },
  {
   "cell_type": "code",
   "execution_count": null,
   "metadata": {},
   "outputs": [],
   "source": [
    "#Merge two data set\n",
    "merge_inner = users_by_cntry.merge(use_gt3_cntry, how='inner', left_on='Country', right_on='Country')\n",
    "merge_inner.drop('Country',  axis=1, inplace=True)"
   ]
  },
  {
   "cell_type": "code",
   "execution_count": null,
   "metadata": {},
   "outputs": [],
   "source": [
    "#Top 5 users\n",
    "top_5 = data.sort_values('Total', ascending = False).groupby('Country').head(5)\n",
    "top_5 = top_5.sort_values(['Country', 'Total'])\n",
    "top_5.head(5)"
   ]
  },
  {
   "cell_type": "code",
   "execution_count": null,
   "metadata": {},
   "outputs": [],
   "source": [
    "#Remaining active users\n",
    "sorted_users = data[~top_5.head(5)]"
   ]
  }
 ],
 "metadata": {
  "kernelspec": {
   "display_name": "Python 3 (Spyder)",
   "language": "python3",
   "name": "python3"
  },
  "language_info": {
   "codemirror_mode": {
    "name": "ipython",
    "version": 3
   },
   "file_extension": ".py",
   "mimetype": "text/x-python",
   "name": "python",
   "nbconvert_exporter": "python",
   "pygments_lexer": "ipython3",
   "version": "3.7.6"
  }
 },
 "nbformat": 4,
 "nbformat_minor": 4
}
